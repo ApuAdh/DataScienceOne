{
 "cells": [
  {
   "cell_type": "code",
   "execution_count": 3,
   "id": "6bfaf855",
   "metadata": {},
   "outputs": [],
   "source": [
    "import pandas as pd"
   ]
  },
  {
   "cell_type": "code",
   "execution_count": 4,
   "id": "817557b4",
   "metadata": {},
   "outputs": [],
   "source": [
    "McDonalds_df = pd.read_csv(\"McDonalds.csv\")\n",
    "Burger_King_df = pd.read_csv(\"BurgerKing.csv\")\n",
    "Chick_Fil_A_df = pd.read_csv(\"ChickFilA.csv\")\n",
    "Arbys_df = pd.read_csv(\"Arby's.csv\")\n",
    "Dairy_Queen_df = pd.read_csv(\"Dairy Queen.csv\")\n",
    "Sonic_df = pd.read_csv(\"Sonic.csv\")\n",
    "Subway_df = pd.read_csv(\"Subway.csv\")\n",
    "Taco_Bell_df = pd.read_csv(\"Taco Bell.csv\")\n",
    "Wendys_df = pd.read_csv(\"Wendy's.csv\")"
   ]
  }
 ],
 "metadata": {
  "kernelspec": {
   "display_name": "Python 3 (ipykernel)",
   "language": "python",
   "name": "python3"
  },
  "language_info": {
   "codemirror_mode": {
    "name": "ipython",
    "version": 3
   },
   "file_extension": ".py",
   "mimetype": "text/x-python",
   "name": "python",
   "nbconvert_exporter": "python",
   "pygments_lexer": "ipython3",
   "version": "3.9.13"
  }
 },
 "nbformat": 4,
 "nbformat_minor": 5
}
