{
 "cells": [
  {
   "cell_type": "code",
   "execution_count": 10,
   "id": "6bfaf855",
   "metadata": {},
   "outputs": [],
   "source": [
    "import pandas as pd"
   ]
  },
  {
   "cell_type": "code",
   "execution_count": 11,
   "id": "817557b4",
   "metadata": {},
   "outputs": [],
   "source": [
    "McDonalds_df = pd.read_csv(\"McDonalds.csv\")\n",
    "Burger_King_df = pd.read_csv(\"BurgerKing.csv\")\n",
    "Chick_Fil_A_df = pd.read_csv(\"ChickFilA.csv\")"
   ]
  },
  {
   "cell_type": "code",
   "execution_count": 13,
   "id": "3fe43c3a",
   "metadata": {},
   "outputs": [
    {
     "name": "stdout",
     "output_type": "stream",
     "text": [
      "   id                              Item  Calories  Total Fat  \\\n",
      "0   1                      Egg McMuffin       300       13.0   \n",
      "1   2                 Egg White Delight       250        8.0   \n",
      "2   3                  Sausage McMuffin       370       23.0   \n",
      "3   4         Sausage McMuffin with Egg       450       28.0   \n",
      "4   5  Sausage McMuffin with Egg Whites       400       23.0   \n",
      "5   6              Steak & Egg McMuffin       430       23.0   \n",
      "\n",
      "   Carbohydrates (G)  Protein  \n",
      "0                 31       17  \n",
      "1                 30       18  \n",
      "2                 29       14  \n",
      "3                 30       21  \n",
      "4                 30       21  \n",
      "5                 31       26  \n"
     ]
    }
   ],
   "source": [
    "print(McDonalds_df.head(6))"
   ]
  }
 ],
 "metadata": {
  "kernelspec": {
   "display_name": "Python 3 (ipykernel)",
   "language": "python",
   "name": "python3"
  },
  "language_info": {
   "codemirror_mode": {
    "name": "ipython",
    "version": 3
   },
   "file_extension": ".py",
   "mimetype": "text/x-python",
   "name": "python",
   "nbconvert_exporter": "python",
   "pygments_lexer": "ipython3",
   "version": "3.9.13"
  }
 },
 "nbformat": 4,
 "nbformat_minor": 5
}
