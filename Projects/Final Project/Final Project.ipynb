{
 "cells": [
  {
   "cell_type": "code",
   "execution_count": 3,
   "id": "6bfaf855",
   "metadata": {},
   "outputs": [],
   "source": [
    "import pandas as pd"
   ]
  },
  {
   "cell_type": "code",
   "execution_count": 4,
   "id": "817557b4",
   "metadata": {},
   "outputs": [],
   "source": [
    "McDonalds_df = pd.read_csv(\"McDonalds.csv\")\n",
    "Burger_King_df = pd.read_csv(\"BurgerKing.csv\")\n",
    "Chick_Fil_A_df = pd.read_csv(\"ChickFilA.csv\")\n",
    "Arbys_df = pd.read_csv(\"Arby's.csv\")\n",
    "Dairy_Queen_df = pd.read_csv(\"Dairy Queen.csv\")\n",
    "Sonic_df = pd.read_csv(\"Sonic.csv\")\n",
    "Subway_df = pd.read_csv(\"Subway.csv\")\n",
    "Taco_Bell_df = pd.read_csv(\"Taco Bell.csv\")\n",
    "Wendys_df = pd.read_csv(\"Wendy's.csv\")"
   ]
  },
  {
   "cell_type": "code",
   "execution_count": 6,
   "id": "3fe43c3a",
   "metadata": {},
   "outputs": [
    {
     "name": "stdout",
     "output_type": "stream",
     "text": [
      "   id                              Item  Calories  Total Fat  \\\n",
      "0   1                      Egg McMuffin       300       13.0   \n",
      "1   2                 Egg White Delight       250        8.0   \n",
      "2   3                  Sausage McMuffin       370       23.0   \n",
      "3   4         Sausage McMuffin with Egg       450       28.0   \n",
      "4   5  Sausage McMuffin with Egg Whites       400       23.0   \n",
      "\n",
      "   Carbohydrates (G)  Protein  \n",
      "0                 31       17  \n",
      "1                 30       18  \n",
      "2                 29       14  \n",
      "3                 30       21  \n",
      "4                 30       21  \n",
      "   id                                  Item  Calories  Total Fat  \\\n",
      "0   1                     Whopper® Sandwich       660       40.0   \n",
      "1   2         Whopper® Sandwich with Cheese       740       46.0   \n",
      "2   3      Bacon & Cheese Whopper® Sandwich       790       51.0   \n",
      "3   4              Double Whopper® Sandwich       900       58.0   \n",
      "4   5  Double Whopper® Sandwich with Cheese       980       64.0   \n",
      "\n",
      "   Carbohydrates (G)  Protein  \n",
      "0                 49       28  \n",
      "1                 50       32  \n",
      "2                 50       35  \n",
      "3                 49       48  \n",
      "4                 50       52  \n",
      "   Id                          Item  Calories  Total Fat  Carbohydrates (G)  \\\n",
      "0   1  Chick-fil-A® Chicken Biscuit       460       23.0                 45   \n",
      "1   2    Chick-fil-A Chick-n-Minis™       360       13.0                 41   \n",
      "2   3               Egg White Grill       290        8.0                 30   \n",
      "3   4   Hash Brown Scramble Burrito       700       40.0                 51   \n",
      "4   5      Hash Brown Scramble Bowl       470       30.0                 19   \n",
      "\n",
      "   Protein  \n",
      "0       19  \n",
      "1       19  \n",
      "2       26  \n",
      "3       34  \n",
      "4       29  \n"
     ]
    }
   ],
   "source": [
    "print(McDonalds_df.head())\n",
    "print(Burger_King_df.head())\n",
    "print(Chick_Fil_A_df.head())"
   ]
  }
 ],
 "metadata": {
  "kernelspec": {
   "display_name": "Python 3 (ipykernel)",
   "language": "python",
   "name": "python3"
  },
  "language_info": {
   "codemirror_mode": {
    "name": "ipython",
    "version": 3
   },
   "file_extension": ".py",
   "mimetype": "text/x-python",
   "name": "python",
   "nbconvert_exporter": "python",
   "pygments_lexer": "ipython3",
   "version": "3.9.13"
  }
 },
 "nbformat": 4,
 "nbformat_minor": 5
}
