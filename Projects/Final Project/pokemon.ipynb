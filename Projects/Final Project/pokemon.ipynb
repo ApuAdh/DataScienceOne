{
 "cells": [
  {
   "cell_type": "code",
   "execution_count": 7,
   "metadata": {},
   "outputs": [],
   "source": [
    "import csv\n",
    "import pandas as pd\n",
    "import seaborn as sns\n",
    "import requests\n",
    "import matplotlib as plt"
   ]
  },
  {
   "cell_type": "code",
   "execution_count": 8,
   "metadata": {},
   "outputs": [],
   "source": [
    "def get_pokemon_data(poke_id):\n",
    "  response = requests.get(f'https://pokeapi.co/api/v2/pokemon/{poke_id}')\n",
    "  pokemon_data = response.json()\n",
    "  return pokemon_data\n",
    "\n",
    "def get_pokemon_generation(pokemon_data):\n",
    "  generations = {\n",
    "    1: range(1, 152),\n",
    "    2: range(152, 303),\n",
    "    3: range(303, 438),\n",
    "    4: range(438, 545),\n",
    "    5: range(545, 701),\n",
    "    6: range(701, 773),\n",
    "    7: range(773, 859),\n",
    "    8: range(859, 955),\n",
    "    9: range(955, 1076),\n",
    "  }\n",
    "  for generation, pokemon_ids in generations.items():\n",
    "    if pokemon_data[\"id\"] in pokemon_ids:\n",
    "      return generation\n",
    "  raise ValueError(\"Unknown Pokemon generation.\")\n",
    "\n",
    "def get_pokemon_ability_1(payload):\n",
    "    x = []\n",
    "    for i in payload[\"abilities\"]:\n",
    "        x.append(i[\"ability\"])\n",
    "    return x[0][\"name\"]\n",
    "\n",
    "def get_pokemon_ability_2(payload):\n",
    "    x = []\n",
    "    y = []\n",
    "    for i in payload[\"abilities\"]:\n",
    "        x.append(i[\"ability\"])\n",
    "        y.append(i[\"slot\"])\n",
    "    if 2 in y:\n",
    "        return x[1][\"name\"]\n",
    "    else:\n",
    "        return \"NaN\"\n",
    "    \n",
    "def get_pokemon_ability_hidden(payload):\n",
    "    x = []\n",
    "    y = []\n",
    "    for i in payload[\"abilities\"]:\n",
    "        x.append(i[\"ability\"])\n",
    "        y.append(i[\"slot\"])\n",
    "    if 3 in y:\n",
    "        return x[-1][\"name\"]\n",
    "    else:\n",
    "        return \"NaN\"\n",
    "    \n",
    "def get_pokemon_type_1(payload):\n",
    "    x = []\n",
    "    for i in payload[\"types\"]:\n",
    "        x.append(i[\"type\"])\n",
    "    return x[0][\"name\"]\n",
    "\n",
    "def get_pokemon_type_2(payload):\n",
    "    x = []\n",
    "    y = []\n",
    "    for i in payload[\"types\"]:\n",
    "        x.append(i[\"type\"])\n",
    "    if x[-1] == x[0]:\n",
    "        return \"NaN\"\n",
    "    return x[-1][\"name\"]\n",
    "\n",
    "def create_csv_file(pokemon_data_list):\n",
    "  with open(\"pokemon.csv\", \"w\", newline=\"\") as csvfile:\n",
    "    writer = csv.writer(csvfile)\n",
    "    writer.writerow([\"ID\", \"Name\", \"HP\", \"Attack\", \"Special_Attack\", \"Defence\", \"Special_Defence\", \"Speed\", \"Generation\", \"Type1\", \"Type2\", \"Ability 1\", \"Ability 2\", \"Hidden Ability\"])\n",
    "    for pokemon_data in pokemon_data_list:\n",
    "      pokedex_id = pokemon_data[\"id\"]\n",
    "      name = pokemon_data[\"name\"]\n",
    "      hp = pokemon_data[\"stats\"][0][\"base_stat\"]\n",
    "      attack = pokemon_data[\"stats\"][1][\"base_stat\"]\n",
    "      special_attack = pokemon_data[\"stats\"][2][\"base_stat\"]\n",
    "      defense = pokemon_data[\"stats\"][3][\"base_stat\"]\n",
    "      special_defense = pokemon_data[\"stats\"][4][\"base_stat\"]\n",
    "      speed = pokemon_data[\"stats\"][5][\"base_stat\"]\n",
    "      generation = get_pokemon_generation(pokemon_data)\n",
    "      ability1 = get_pokemon_ability_1(pokemon_data)\n",
    "      ability2 = get_pokemon_ability_2(pokemon_data)\n",
    "      type1 = get_pokemon_type_1(pokemon_data)\n",
    "      type2 = get_pokemon_type_2(pokemon_data)\n",
    "      abilityhidden = get_pokemon_ability_hidden(pokemon_data)\n",
    "      writer.writerow([pokedex_id, name, hp, attack, special_attack, defense, special_defense, speed, generation, type1, type2, ability1, ability2, abilityhidden])\n",
    "\n",
    "def main():\n",
    "  pokemon_data_list = []\n",
    "  for pokemon_id in range(1, 906):\n",
    "    pokemon_data = get_pokemon_data(pokemon_id)\n",
    "    pokemon_data_list.append(pokemon_data)\n",
    "\n",
    "  create_csv_file(pokemon_data_list)\n",
    "\n",
    "if __name__ == \"__main__\":\n",
    "  main()"
   ]
  },
  {
   "cell_type": "code",
   "execution_count": 37,
   "metadata": {},
   "outputs": [
    {
     "name": "stdout",
     "output_type": "stream",
     "text": [
      "39\n"
     ]
    }
   ],
   "source": [
    "df = pd.read_csv(\"pokemon.csv\")\n",
    "print(df[\"HP\"][3])"
   ]
  },
  {
   "cell_type": "code",
   "execution_count": 48,
   "metadata": {},
   "outputs": [
    {
     "ename": "KeyError",
     "evalue": "0",
     "output_type": "error",
     "traceback": [
      "\u001b[0;31m---------------------------------------------------------------------------\u001b[0m",
      "\u001b[0;31mKeyError\u001b[0m                                  Traceback (most recent call last)",
      "File \u001b[0;32m/Library/Frameworks/Python.framework/Versions/3.11/lib/python3.11/site-packages/pandas/core/indexes/base.py:3790\u001b[0m, in \u001b[0;36mIndex.get_loc\u001b[0;34m(self, key)\u001b[0m\n\u001b[1;32m   3789\u001b[0m \u001b[39mtry\u001b[39;00m:\n\u001b[0;32m-> 3790\u001b[0m     \u001b[39mreturn\u001b[39;00m \u001b[39mself\u001b[39;49m\u001b[39m.\u001b[39;49m_engine\u001b[39m.\u001b[39;49mget_loc(casted_key)\n\u001b[1;32m   3791\u001b[0m \u001b[39mexcept\u001b[39;00m \u001b[39mKeyError\u001b[39;00m \u001b[39mas\u001b[39;00m err:\n",
      "File \u001b[0;32mindex.pyx:152\u001b[0m, in \u001b[0;36mpandas._libs.index.IndexEngine.get_loc\u001b[0;34m()\u001b[0m\n",
      "File \u001b[0;32mindex.pyx:181\u001b[0m, in \u001b[0;36mpandas._libs.index.IndexEngine.get_loc\u001b[0;34m()\u001b[0m\n",
      "File \u001b[0;32mpandas/_libs/hashtable_class_helper.pxi:2606\u001b[0m, in \u001b[0;36mpandas._libs.hashtable.Int64HashTable.get_item\u001b[0;34m()\u001b[0m\n",
      "File \u001b[0;32mpandas/_libs/hashtable_class_helper.pxi:2630\u001b[0m, in \u001b[0;36mpandas._libs.hashtable.Int64HashTable.get_item\u001b[0;34m()\u001b[0m\n",
      "\u001b[0;31mKeyError\u001b[0m: 0",
      "\nThe above exception was the direct cause of the following exception:\n",
      "\u001b[0;31mKeyError\u001b[0m                                  Traceback (most recent call last)",
      "\u001b[1;32m/Users/apu/Desktop/DataScienceOne/Projects/Final Project/pokemon.ipynb Cell 4\u001b[0m line \u001b[0;36m6\n\u001b[1;32m      <a href='vscode-notebook-cell:/Users/apu/Desktop/DataScienceOne/Projects/Final%20Project/pokemon.ipynb#W3sZmlsZQ%3D%3D?line=3'>4</a>\u001b[0m         \u001b[39mprint\u001b[39m(filtered_df[\u001b[39m\"\u001b[39m\u001b[39mHP\u001b[39m\u001b[39m\"\u001b[39m][i])\n\u001b[1;32m      <a href='vscode-notebook-cell:/Users/apu/Desktop/DataScienceOne/Projects/Final%20Project/pokemon.ipynb#W3sZmlsZQ%3D%3D?line=4'>5</a>\u001b[0m     \u001b[39mreturn\u001b[39;00m filtered_df\n\u001b[0;32m----> <a href='vscode-notebook-cell:/Users/apu/Desktop/DataScienceOne/Projects/Final%20Project/pokemon.ipynb#W3sZmlsZQ%3D%3D?line=5'>6</a>\u001b[0m strongest_pokemon(\u001b[39m\"\u001b[39;49m\u001b[39mfire\u001b[39;49m\u001b[39m\"\u001b[39;49m)\u001b[39m.\u001b[39mhead()\n",
      "\u001b[1;32m/Users/apu/Desktop/DataScienceOne/Projects/Final Project/pokemon.ipynb Cell 4\u001b[0m line \u001b[0;36m4\n\u001b[1;32m      <a href='vscode-notebook-cell:/Users/apu/Desktop/DataScienceOne/Projects/Final%20Project/pokemon.ipynb#W3sZmlsZQ%3D%3D?line=1'>2</a>\u001b[0m filtered_df \u001b[39m=\u001b[39m df[(df[\u001b[39m\"\u001b[39m\u001b[39mType1\u001b[39m\u001b[39m\"\u001b[39m] \u001b[39m==\u001b[39m \u001b[39mtype\u001b[39m) \u001b[39m|\u001b[39m (df[\u001b[39m\"\u001b[39m\u001b[39mType2\u001b[39m\u001b[39m\"\u001b[39m] \u001b[39m==\u001b[39m \u001b[39mtype\u001b[39m)]\n\u001b[1;32m      <a href='vscode-notebook-cell:/Users/apu/Desktop/DataScienceOne/Projects/Final%20Project/pokemon.ipynb#W3sZmlsZQ%3D%3D?line=2'>3</a>\u001b[0m \u001b[39mfor\u001b[39;00m i \u001b[39min\u001b[39;00m \u001b[39mrange\u001b[39m(\u001b[39mlen\u001b[39m(filtered_df)):\n\u001b[0;32m----> <a href='vscode-notebook-cell:/Users/apu/Desktop/DataScienceOne/Projects/Final%20Project/pokemon.ipynb#W3sZmlsZQ%3D%3D?line=3'>4</a>\u001b[0m     \u001b[39mprint\u001b[39m(filtered_df[\u001b[39m\"\u001b[39;49m\u001b[39mHP\u001b[39;49m\u001b[39m\"\u001b[39;49m][i])\n\u001b[1;32m      <a href='vscode-notebook-cell:/Users/apu/Desktop/DataScienceOne/Projects/Final%20Project/pokemon.ipynb#W3sZmlsZQ%3D%3D?line=4'>5</a>\u001b[0m \u001b[39mreturn\u001b[39;00m filtered_df\n",
      "File \u001b[0;32m/Library/Frameworks/Python.framework/Versions/3.11/lib/python3.11/site-packages/pandas/core/series.py:1040\u001b[0m, in \u001b[0;36mSeries.__getitem__\u001b[0;34m(self, key)\u001b[0m\n\u001b[1;32m   1037\u001b[0m     \u001b[39mreturn\u001b[39;00m \u001b[39mself\u001b[39m\u001b[39m.\u001b[39m_values[key]\n\u001b[1;32m   1039\u001b[0m \u001b[39melif\u001b[39;00m key_is_scalar:\n\u001b[0;32m-> 1040\u001b[0m     \u001b[39mreturn\u001b[39;00m \u001b[39mself\u001b[39;49m\u001b[39m.\u001b[39;49m_get_value(key)\n\u001b[1;32m   1042\u001b[0m \u001b[39m# Convert generator to list before going through hashable part\u001b[39;00m\n\u001b[1;32m   1043\u001b[0m \u001b[39m# (We will iterate through the generator there to check for slices)\u001b[39;00m\n\u001b[1;32m   1044\u001b[0m \u001b[39mif\u001b[39;00m is_iterator(key):\n",
      "File \u001b[0;32m/Library/Frameworks/Python.framework/Versions/3.11/lib/python3.11/site-packages/pandas/core/series.py:1156\u001b[0m, in \u001b[0;36mSeries._get_value\u001b[0;34m(self, label, takeable)\u001b[0m\n\u001b[1;32m   1153\u001b[0m     \u001b[39mreturn\u001b[39;00m \u001b[39mself\u001b[39m\u001b[39m.\u001b[39m_values[label]\n\u001b[1;32m   1155\u001b[0m \u001b[39m# Similar to Index.get_value, but we do not fall back to positional\u001b[39;00m\n\u001b[0;32m-> 1156\u001b[0m loc \u001b[39m=\u001b[39m \u001b[39mself\u001b[39;49m\u001b[39m.\u001b[39;49mindex\u001b[39m.\u001b[39;49mget_loc(label)\n\u001b[1;32m   1158\u001b[0m \u001b[39mif\u001b[39;00m is_integer(loc):\n\u001b[1;32m   1159\u001b[0m     \u001b[39mreturn\u001b[39;00m \u001b[39mself\u001b[39m\u001b[39m.\u001b[39m_values[loc]\n",
      "File \u001b[0;32m/Library/Frameworks/Python.framework/Versions/3.11/lib/python3.11/site-packages/pandas/core/indexes/base.py:3797\u001b[0m, in \u001b[0;36mIndex.get_loc\u001b[0;34m(self, key)\u001b[0m\n\u001b[1;32m   3792\u001b[0m     \u001b[39mif\u001b[39;00m \u001b[39misinstance\u001b[39m(casted_key, \u001b[39mslice\u001b[39m) \u001b[39mor\u001b[39;00m (\n\u001b[1;32m   3793\u001b[0m         \u001b[39misinstance\u001b[39m(casted_key, abc\u001b[39m.\u001b[39mIterable)\n\u001b[1;32m   3794\u001b[0m         \u001b[39mand\u001b[39;00m \u001b[39many\u001b[39m(\u001b[39misinstance\u001b[39m(x, \u001b[39mslice\u001b[39m) \u001b[39mfor\u001b[39;00m x \u001b[39min\u001b[39;00m casted_key)\n\u001b[1;32m   3795\u001b[0m     ):\n\u001b[1;32m   3796\u001b[0m         \u001b[39mraise\u001b[39;00m InvalidIndexError(key)\n\u001b[0;32m-> 3797\u001b[0m     \u001b[39mraise\u001b[39;00m \u001b[39mKeyError\u001b[39;00m(key) \u001b[39mfrom\u001b[39;00m \u001b[39merr\u001b[39;00m\n\u001b[1;32m   3798\u001b[0m \u001b[39mexcept\u001b[39;00m \u001b[39mTypeError\u001b[39;00m:\n\u001b[1;32m   3799\u001b[0m     \u001b[39m# If we have a listlike key, _check_indexing_error will raise\u001b[39;00m\n\u001b[1;32m   3800\u001b[0m     \u001b[39m#  InvalidIndexError. Otherwise we fall through and re-raise\u001b[39;00m\n\u001b[1;32m   3801\u001b[0m     \u001b[39m#  the TypeError.\u001b[39;00m\n\u001b[1;32m   3802\u001b[0m     \u001b[39mself\u001b[39m\u001b[39m.\u001b[39m_check_indexing_error(key)\n",
      "\u001b[0;31mKeyError\u001b[0m: 0"
     ]
    }
   ],
   "source": [
    "def strongest_pokemon(type):\n",
    "    filtered_df = df[(df[\"Type1\"] == type) | (df[\"Type2\"] == type)]\n",
    "    for i in range(len(filtered_df)):\n",
    "        print(filtered_df[\"Attack\"][i])\n",
    "    return filtered_df\n",
    "strongest_pokemon(\"fire\").head()"
   ]
  },
  {
   "cell_type": "code",
   "execution_count": null,
   "metadata": {},
   "outputs": [],
   "source": []
  }
 ],
 "metadata": {
  "kernelspec": {
   "display_name": "base",
   "language": "python",
   "name": "python3"
  },
  "language_info": {
   "codemirror_mode": {
    "name": "ipython",
    "version": 3
   },
   "file_extension": ".py",
   "mimetype": "text/x-python",
   "name": "python",
   "nbconvert_exporter": "python",
   "pygments_lexer": "ipython3",
   "version": "3.11.0"
  }
 },
 "nbformat": 4,
 "nbformat_minor": 2
}
