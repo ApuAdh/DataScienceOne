{
 "cells": [
  {
   "cell_type": "code",
   "execution_count": 2,
   "metadata": {},
   "outputs": [],
   "source": [
    "from bs4 import BeautifulSoup\n",
    "import requests\n",
    "import random"
   ]
  },
  {
   "cell_type": "code",
   "execution_count": 17,
   "metadata": {},
   "outputs": [
    {
     "name": "stdout",
     "output_type": "stream",
     "text": [
      "275\n"
     ]
    }
   ],
   "source": [
    "response = requests.get(\"https://en.wikipedia.org/wiki/List_of_people_who_died_on_the_toilet\")\n",
    "soup = BeautifulSoup(response.text, 'html.parser')\n",
    "hyperlinks = soup.find_all('a')\n",
    "print(len(hyperlinks))"
   ]
  },
  {
   "cell_type": "code",
   "execution_count": 24,
   "metadata": {},
   "outputs": [],
   "source": [
    "def get_word_count(url):\n",
    "    response = requests.get(url)\n",
    "    soup = BeautifulSoup(response.text, 'html.parser')\n",
    "    content = soup.find(id='mw-content-text')\n",
    "    text = content.get_text()\n",
    "    words = text.split()\n",
    "    return len(words)\n",
    "\n",
    "def calculate_average_word_count(x):\n",
    "    article_count = 0\n",
    "    total_word_count = 0\n",
    "\n",
    "    while article_count < x:\n",
    "        url = \"https://en.wikipedia.org/wiki/Special:Random\"\n",
    "        word_count = get_word_count(url)\n",
    "        total_word_count += word_count\n",
    "        article_count += 1\n",
    "\n",
    "    average_word_count = total_word_count / x\n",
    "    return average_word_count\n",
    "\n",
    "print(f'100 Articles:{calculate_average_word_count(100)}')\n",
    "print(f'1000{calculate_average_word_count(1000)}')"
   ]
  },
  {
   "cell_type": "code",
   "execution_count": 7,
   "metadata": {},
   "outputs": [
    {
     "ename": "SyntaxError",
     "evalue": "invalid syntax (4112570825.py, line 3)",
     "output_type": "error",
     "traceback": [
      "\u001b[1;36m  File \u001b[1;32m\"C:\\Users\\aadhikari5\\AppData\\Local\\Temp\\ipykernel_13240\\4112570825.py\"\u001b[1;36m, line \u001b[1;32m3\u001b[0m\n\u001b[1;33m    print(payload[\"data\"][])\u001b[0m\n\u001b[1;37m                          ^\u001b[0m\n\u001b[1;31mSyntaxError\u001b[0m\u001b[1;31m:\u001b[0m invalid syntax\n"
     ]
    }
   ],
   "source": [
    "response = requests.get(\"https://api.imgflip.com/get_memes\")\n",
    "payload = response.json()\n",
    "print(payload[\"data\"][\"memes\"][3][\"name\"])"
   ]
  },
  {
   "cell_type": "code",
   "execution_count": null,
   "metadata": {},
   "outputs": [],
   "source": []
  }
 ],
 "metadata": {
  "kernelspec": {
   "display_name": "base",
   "language": "python",
   "name": "python3"
  },
  "language_info": {
   "codemirror_mode": {
    "name": "ipython",
    "version": 3
   },
   "file_extension": ".py",
   "mimetype": "text/x-python",
   "name": "python",
   "nbconvert_exporter": "python",
   "pygments_lexer": "ipython3",
   "version": "3.9.13"
  }
 },
 "nbformat": 4,
 "nbformat_minor": 2
}
