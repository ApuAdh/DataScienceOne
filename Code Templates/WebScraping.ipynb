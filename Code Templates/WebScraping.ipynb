{
 "cells": [
  {
   "cell_type": "code",
   "execution_count": 39,
   "metadata": {},
   "outputs": [],
   "source": [
    "from bs4 import BeautifulSoup\n",
    "import requests\n",
    "import wikipediaapi\n",
    "import random"
   ]
  },
  {
   "cell_type": "code",
   "execution_count": 40,
   "metadata": {},
   "outputs": [
    {
     "name": "stdout",
     "output_type": "stream",
     "text": [
      "275\n"
     ]
    }
   ],
   "source": [
    "response = requests.get(\"https://en.wikipedia.org/wiki/List_of_people_who_died_on_the_toilet\")\n",
    "soup = BeautifulSoup(response.text, 'html.parser')\n",
    "hyperlinks = soup.find_all('a')\n",
    "print(len(hyperlinks))"
   ]
  },
  {
   "cell_type": "code",
   "execution_count": 41,
   "metadata": {},
   "outputs": [
    {
     "ename": "AssertionError",
     "evalue": "Please, be nice to Wikipedia and specify user agent - https://meta.wikimedia.org/wiki/User-Agent_policy. Current user_agent: 'en' is not sufficient.",
     "output_type": "error",
     "traceback": [
      "\u001b[0;31m---------------------------------------------------------------------------\u001b[0m",
      "\u001b[0;31mAssertionError\u001b[0m                            Traceback (most recent call last)",
      "\u001b[1;32m/Users/apu/Desktop/DataScienceOne/Code Templates/WebScraping.ipynb Cell 3\u001b[0m line \u001b[0;36m2\n\u001b[1;32m      <a href='vscode-notebook-cell:/Users/apu/Desktop/DataScienceOne/Code%20Templates/WebScraping.ipynb#W2sZmlsZQ%3D%3D?line=0'>1</a>\u001b[0m \u001b[39m# Create a Wikipedia API object\u001b[39;00m\n\u001b[0;32m----> <a href='vscode-notebook-cell:/Users/apu/Desktop/DataScienceOne/Code%20Templates/WebScraping.ipynb#W2sZmlsZQ%3D%3D?line=1'>2</a>\u001b[0m wiki_wiki \u001b[39m=\u001b[39m wikipediaapi\u001b[39m.\u001b[39;49mWikipedia(\u001b[39m'\u001b[39;49m\u001b[39men\u001b[39;49m\u001b[39m'\u001b[39;49m)\n\u001b[1;32m      <a href='vscode-notebook-cell:/Users/apu/Desktop/DataScienceOne/Code%20Templates/WebScraping.ipynb#W2sZmlsZQ%3D%3D?line=3'>4</a>\u001b[0m \u001b[39m# Function to get the link to a random article\u001b[39;00m\n\u001b[1;32m      <a href='vscode-notebook-cell:/Users/apu/Desktop/DataScienceOne/Code%20Templates/WebScraping.ipynb#W2sZmlsZQ%3D%3D?line=4'>5</a>\u001b[0m \u001b[39mdef\u001b[39;00m \u001b[39mget_random_article_link\u001b[39m():\n\u001b[1;32m      <a href='vscode-notebook-cell:/Users/apu/Desktop/DataScienceOne/Code%20Templates/WebScraping.ipynb#W2sZmlsZQ%3D%3D?line=5'>6</a>\u001b[0m     \u001b[39m# Get a random article title\u001b[39;00m\n",
      "File \u001b[0;32m/Library/Frameworks/Python.framework/Versions/3.11/lib/python3.11/site-packages/wikipediaapi/__init__.py:166\u001b[0m, in \u001b[0;36mWikipedia.__init__\u001b[0;34m(self, user_agent, language, extract_format, headers, **kwargs)\u001b[0m\n\u001b[1;32m    164\u001b[0m used_user_agent \u001b[39m=\u001b[39m default_headers\u001b[39m.\u001b[39mget(\u001b[39m\"\u001b[39m\u001b[39mUser-Agent\u001b[39m\u001b[39m\"\u001b[39m)\n\u001b[1;32m    165\u001b[0m \u001b[39mif\u001b[39;00m \u001b[39mnot\u001b[39;00m (used_user_agent \u001b[39mand\u001b[39;00m \u001b[39mlen\u001b[39m(used_user_agent) \u001b[39m>\u001b[39m \u001b[39m5\u001b[39m):\n\u001b[0;32m--> 166\u001b[0m     \u001b[39mraise\u001b[39;00m \u001b[39mAssertionError\u001b[39;00m(\n\u001b[1;32m    167\u001b[0m         \u001b[39m\"\u001b[39m\u001b[39mPlease, be nice to Wikipedia and specify user agent - \u001b[39m\u001b[39m\"\u001b[39m\n\u001b[1;32m    168\u001b[0m         \u001b[39m+\u001b[39m \u001b[39m\"\u001b[39m\u001b[39mhttps://meta.wikimedia.org/wiki/User-Agent_policy. Current user_agent: \u001b[39m\u001b[39m'\u001b[39m\u001b[39m\"\u001b[39m\n\u001b[1;32m    169\u001b[0m         \u001b[39m+\u001b[39m \u001b[39mstr\u001b[39m(used_user_agent)\n\u001b[1;32m    170\u001b[0m         \u001b[39m+\u001b[39m \u001b[39m\"\u001b[39m\u001b[39m'\u001b[39m\u001b[39m is not sufficient.\u001b[39m\u001b[39m\"\u001b[39m\n\u001b[1;32m    171\u001b[0m     )\n\u001b[1;32m    172\u001b[0m default_headers[\u001b[39m\"\u001b[39m\u001b[39mUser-Agent\u001b[39m\u001b[39m\"\u001b[39m] \u001b[39m+\u001b[39m\u001b[39m=\u001b[39m \u001b[39m\"\u001b[39m\u001b[39m (\u001b[39m\u001b[39m\"\u001b[39m \u001b[39m+\u001b[39m USER_AGENT \u001b[39m+\u001b[39m \u001b[39m\"\u001b[39m\u001b[39m)\u001b[39m\u001b[39m\"\u001b[39m\n\u001b[1;32m    174\u001b[0m \u001b[39mself\u001b[39m\u001b[39m.\u001b[39mlanguage \u001b[39m=\u001b[39m language\u001b[39m.\u001b[39mstrip()\u001b[39m.\u001b[39mlower()\n",
      "\u001b[0;31mAssertionError\u001b[0m: Please, be nice to Wikipedia and specify user agent - https://meta.wikimedia.org/wiki/User-Agent_policy. Current user_agent: 'en' is not sufficient."
     ]
    }
   ],
   "source": [
    "# Specify your user-agent string\n",
    "user_agent = \"YourAppName/1.0 (YourEmail@example.com)\"\n",
    "\n",
    "# Create a Wikipedia API object with the user-agent string\n",
    "wiki_wiki = wikipediaapi.Wikipedia('en', extract_format=wikipediaapi.ExtractFormat.WIKI, headers={'User-Agent': user_agent})\n",
    "\n",
    "# Function to get the link to a random article\n",
    "def get_random_article_link():\n",
    "    # Get a random article title\n",
    "    random_title = random.choice(list(wiki_wiki.page.keys()))\n",
    "    # Get the page object for the random article\n",
    "    page = wiki_wiki.page[random_title]\n",
    "    # Return the full URL of the article\n",
    "    return page.fullurl\n",
    "\n",
    "# Generate a list of 1000 random article links\n",
    "random_article_links = [get_random_article_link() for _ in range(1000)]\n",
    "\n",
    "# Print the list of links\n",
    "for i, link in enumerate(random_article_links, start=1):\n",
    "    print(f\"{i}. {link}\")\n"
   ]
  }
 ],
 "metadata": {
  "kernelspec": {
   "display_name": "base",
   "language": "python",
   "name": "python3"
  },
  "language_info": {
   "codemirror_mode": {
    "name": "ipython",
    "version": 3
   },
   "file_extension": ".py",
   "mimetype": "text/x-python",
   "name": "python",
   "nbconvert_exporter": "python",
   "pygments_lexer": "ipython3",
   "version": "3.11.0"
  }
 },
 "nbformat": 4,
 "nbformat_minor": 2
}
