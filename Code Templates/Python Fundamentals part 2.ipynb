{
 "cells": [
  {
   "cell_type": "code",
   "execution_count": 82,
   "id": "8f688caf",
   "metadata": {},
   "outputs": [],
   "source": [
    "Columns = {\n",
    "    \"Name\":[\"Edward Teach\",\"Anne Bonny\", \"John Rackham\",\"Cheung Po Tsai\", \"Grace O'Malley\", \"Mary Read\",\"Sayyida Al Hurra\", \"Zheng Yi Sao\",\"Francis Drake\",\"Jean Lafitte\"],\n",
    "    \"Years Active\": [\"1716-1718\",\"1718-1720\",\"1718-1720\",\"1798-1810\",\"1564-1595\",\"1708-1721\",\"1515-1545\",\"1801-1810\",\"1563-1596\",\"1810-1823\"],\n",
    "    \"Sailed\": [\"Carribean\",\"Carribean\",\"Carribean\",\"South China Sea\",\"British Isles\",\"Carribean\",\"Mediterranean\",\"South China Sea\",\"Carribean\",\"Gulf of Mexico\"],\n",
    "    \"Alias\": [\"Blackbeard\",\"\",\"Calico Jack\",\"The Kid\",\"Queen of Ireland\",\"Mark\",\"Hakimat Titwan\",\"Ching Singh\", \"Sir Francis Drake\",\"Terror of the Gulf\"]        \n",
    "}"
   ]
  },
  {
   "cell_type": "code",
   "execution_count": 81,
   "id": "80905f03",
   "metadata": {},
   "outputs": [],
   "source": [
    "Rows = {\n",
    "    \"Edward Teach\": [\"1716-1718\",\"Carribean\",\"Blackbeard\"],\n",
    "    \"Anne Bonny\": [\"1718-1720\",\"Carribean\",\"\"],\n",
    "    \"John Rackham\": [\"1718-1720\",\"Carribean\",\"Calico Jack\"],\n",
    "    \"Cheung Po Tsai\": [\"1798-1810\",\"South China Sea\",\"The Kid\"],\n",
    "    \"Grace O'Malley\": [\"1564-1595\",\"British Isles\",\"Queen of Ireland\"],\n",
    "    \"Mary Read\": [\"1708-1721\",\"Carribean\",\"Mark\"],\n",
    "    \"Sayyida Al Hurra\": [\"1515-1545\",\"Mediterranean\",\"Hakimat Titwan\"],\n",
    "    \"Zheng Yi Sao\": [\"1801-1810\",\"South China Sea\",\"Ching Shih\"],\n",
    "    \"Francis Drake\": [\"1563-1596\",\"Carribean\",\"Sir Francis Drake\"],\n",
    "    \"Jean Lafitte\": [\"1810-1823\", \"Gulf of Mexico\", \"Terror of the Gulf\"]\n",
    "}"
   ]
  },
  {
   "cell_type": "markdown",
   "id": "51ba663e",
   "metadata": {},
   "source": [
    "How many pirates sailed the Carribean in the 17th century"
   ]
  },
  {
   "cell_type": "code",
   "execution_count": 80,
   "id": "7b009718",
   "metadata": {},
   "outputs": [
    {
     "name": "stdout",
     "output_type": "stream",
     "text": [
      "4\n"
     ]
    }
   ],
   "source": [
    "Eighten_Century_Pirates_Count = 0\n",
    "for i in Rows:\n",
    "    if int(Rows[i][0][:2]) >= 17 and Rows[i][1] == \"Carribean\":\n",
    "        Eighten_Century_Pirates_Count += 1\n",
    "print(Eighten_Century_Pirates_Count)\n"
   ]
  },
  {
   "cell_type": "markdown",
   "id": "1d11748c",
   "metadata": {},
   "source": [
    "Which Pirate had the longest career"
   ]
  },
  {
   "cell_type": "code",
   "execution_count": 85,
   "id": "a4b4a996",
   "metadata": {},
   "outputs": [
    {
     "name": "stdout",
     "output_type": "stream",
     "text": [
      "The longest career is of 33 years which is of Francis Drake\n"
     ]
    }
   ],
   "source": [
    "longest_carrer = 0\n",
    "longest_carrer_guy = \"\"\n",
    "for i in Rows:\n",
    "    carrer_start = int(Rows[i][0][:4])\n",
    "    carrer_end = int(Rows[i][0][-4:])\n",
    "    carrer_length = carrer_end-carrer_start\n",
    "    if carrer_length > longest_carrer:\n",
    "        longest_carrer = carrer_length\n",
    "        longest_carrer_guy = i\n",
    "    \n",
    "print(f'The longest career is of {longest_carrer} years which is of {longest_carrer_guy}')"
   ]
  },
  {
   "cell_type": "markdown",
   "id": "2bb75236",
   "metadata": {},
   "source": [
    "On average, how many years was a pirate active"
   ]
  },
  {
   "cell_type": "code",
   "execution_count": 92,
   "metadata": {},
   "outputs": [
    {
     "name": "stdout",
     "output_type": "stream",
     "text": [
      "The average amount of years a pirate was active was 14.7\n"
     ]
    }
   ],
   "source": [
    "carrer_lengths = []\n",
    "for i in Rows:\n",
    "    carrer_start = int(Rows[i][0][:4])\n",
    "    carrer_end = int(Rows[i][0][-4:])\n",
    "    carrer_length = carrer_end-carrer_start\n",
    "    carrer_lengths.append(carrer_length)\n",
    "\n",
    "randomvariable1 = 0\n",
    "for i in carrer_lengths:\n",
    "    randomvariable1 += i\n",
    "\n",
    "average = randomvariable1/len(carrer_lengths)\n",
    "print(f'The average amount of years a pirate was active was {average}')"
   ]
  },
  {
   "cell_type": "markdown",
   "id": "4f84e5d3",
   "metadata": {},
   "source": [
    "Merge the dataset we did today with yesterday's one"
   ]
  },
  {
   "cell_type": "code",
   "execution_count": 122,
   "id": "4ad5b7aa",
   "metadata": {},
   "outputs": [
    {
     "name": "stdout",
     "output_type": "stream",
     "text": [
      "{'Name': ['Edward Teach', 'Anne Bonny', 'John Rackham', 'Cheung Po Tsai', \"Grace O'Malley\", 'Mary Read', 'Sayyida Al Hurra', 'Zheng Yi Sao', 'Francis Drake', 'Jean Lafitte'], 'Sex': ['M', 'F', 'M', 'M', 'F', 'F', 'F', 'F', 'M', 'M'], 'Age at Death': [40, 24, 37, 39, 73, 36, 75, 69, 56, 46], 'Height': [6.4, 5.6, 5.6, 5.3, 5.0, 5.1, 0, 5.3, 5.5, 6.2], 'Skull and Crossbones': [False, True, True, False, False, True, False, False, False, False], 'Years Active': ['1716-1718', '1718-1720', '1718-1720', '1798-1810', '1564-1595', '1708-1721', '1515-1545', '1801-1810', '1563-1596', '1810-1823'], 'Sailed': ['Carribean', 'Carribean', 'Carribean', 'South China Sea', 'British Isles', 'Carribean', 'Mediterranean', 'South China Sea', 'Carribean', 'Gulf of Mexico'], 'Alias': ['Blackbeard', '', 'Calico Jack', 'The Kid', 'Queen of Ireland', 'Mark', 'Hakimat Titwan', 'Ching Singh', 'Sir Francis Drake', 'Terror of the Gulf']}\n"
     ]
    }
   ],
   "source": [
    "Today = {\n",
    "    \"Name\":[\"Edward Teach\",\"Anne Bonny\", \"John Rackham\",\"Cheung Po Tsai\", \"Grace O'Malley\", \"Mary Read\",\"Sayyida Al Hurra\", \"Zheng Yi Sao\",\"Francis Drake\",\"Jean Lafitte\"],\n",
    "    \"Years Active\": [\"1716-1718\",\"1718-1720\",\"1718-1720\",\"1798-1810\",\"1564-1595\",\"1708-1721\",\"1515-1545\",\"1801-1810\",\"1563-1596\",\"1810-1823\"],\n",
    "    \"Sailed\": [\"Carribean\",\"Carribean\",\"Carribean\",\"South China Sea\",\"British Isles\",\"Carribean\",\"Mediterranean\",\"South China Sea\",\"Carribean\",\"Gulf of Mexico\"],\n",
    "    \"Alias\": [\"Blackbeard\",\"\",\"Calico Jack\",\"The Kid\",\"Queen of Ireland\",\"Mark\",\"Hakimat Titwan\",\"Ching Singh\", \"Sir Francis Drake\",\"Terror of the Gulf\"]        \n",
    "}\n",
    "Yesterday = {\n",
    "    \"Name\":[\"Blackbeard\", \"Anne Bonny\", \"Calico Jack\", \"Cheung Po Tsai\", \"Grace O'Malley\", \"Mary Read\", \"Sayyida al Hurra\", \"Ching Shih\", \"Sir Francis Drake\", \"Jean Lafittte\"],\n",
    "    \"Sex\":[\"M\", \"F\", \"M\", \"M\", \"F\", \"F\", \"F\", \"F\", \"M\", \"M\"],\n",
    "    \"Age at Death\":[40, 24, 37, 39, 73, 36, 75, 69, 56, 46],\n",
    "    \"Height\":[6.4, 5.6, 5.6, 5.3, 5.0, 5.1, 0, 5.3, 5.5, 6.2],\n",
    "    \"Skull and Crossbones\":[False, True, True, False, False, True, False, False, False, False]\n",
    "}\n",
    "\n",
    "merge = {**Yesterday, **Today}\n",
    "\n",
    "print(merge)"
   ]
  }
 ],
 "metadata": {
  "kernelspec": {
   "display_name": "Python 3 (ipykernel)",
   "language": "python",
   "name": "python3"
  },
  "language_info": {
   "codemirror_mode": {
    "name": "ipython",
    "version": 3
   },
   "file_extension": ".py",
   "mimetype": "text/x-python",
   "name": "python",
   "nbconvert_exporter": "python",
   "pygments_lexer": "ipython3",
   "version": "3.9.13"
  }
 },
 "nbformat": 4,
 "nbformat_minor": 5
}
