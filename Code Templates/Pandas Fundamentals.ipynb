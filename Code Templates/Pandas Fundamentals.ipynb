{
 "cells": [
  {
   "cell_type": "code",
   "execution_count": 26,
   "metadata": {},
   "outputs": [],
   "source": [
    "import pandas as pd"
   ]
  },
  {
   "cell_type": "code",
   "execution_count": 27,
   "metadata": {},
   "outputs": [],
   "source": [
    "DF = pd.read_csv(\"pirates.csv\")"
   ]
  },
  {
   "cell_type": "code",
   "execution_count": 28,
   "metadata": {},
   "outputs": [
    {
     "name": "stdout",
     "output_type": "stream",
     "text": [
      "   id     sex   age  height  weight headband college  tattoos  tchests  \\\n",
      "0   1    male  28.0  173.11    70.5      yes   JSSFP        9        0   \n",
      "1   2    male  31.0  209.25   105.6      yes   JSSFP        9       11   \n",
      "2   3    male  26.0  169.95    77.1      yes    CCCC       10       10   \n",
      "3   4  female  31.0  144.29    58.5       no   JSSFP        2        0   \n",
      "4   5  female  41.0  157.85    58.4      yes   JSSFP        9        6   \n",
      "\n",
      "  parrots favorite.pirate sword.type  eyepatch  sword.time  beard.length  \\\n",
      "0       0    Jack Sparrow    cutlass         1        0.58            16   \n",
      "1       0    Jack Sparrow    cutlass         0        1.11            21   \n",
      "2       1    Jack Sparrow    cutlass         1        1.44            19   \n",
      "3       2    Jack Sparrow   scimitar         1       36.11             2   \n",
      "4       4            Hook    cutlass         1        0.11             0   \n",
      "\n",
      "        fav.pixar  grogg  \n",
      "0  Monsters, Inc.     11  \n",
      "1          WALL-E      9  \n",
      "2      Inside Out      7  \n",
      "3      Inside Out      9  \n",
      "4      Inside Out     14  \n"
     ]
    }
   ],
   "source": [
    "print(DF.head())"
   ]
  },
  {
   "cell_type": "markdown",
   "metadata": {},
   "source": [
    "How Many Rows are there in the dataset"
   ]
  },
  {
   "cell_type": "code",
   "execution_count": 29,
   "metadata": {},
   "outputs": [
    {
     "name": "stdout",
     "output_type": "stream",
     "text": [
      "1000\n"
     ]
    }
   ],
   "source": [
    "print(len(DF.index))"
   ]
  },
  {
   "cell_type": "markdown",
   "metadata": {},
   "source": [
    "What type of data is found in the \"parrots\" Coulmn? Why?"
   ]
  },
  {
   "cell_type": "code",
   "execution_count": 30,
   "metadata": {},
   "outputs": [
    {
     "name": "stdout",
     "output_type": "stream",
     "text": [
      "object\n"
     ]
    }
   ],
   "source": [
    "DataType = DF[\"parrots\"].dtypes\n",
    "print(DataType)"
   ]
  },
  {
   "cell_type": "markdown",
   "metadata": {},
   "source": [
    "What is the data missing in this dataset? Provide Column Name and row number"
   ]
  },
  {
   "cell_type": "code",
   "execution_count": 42,
   "metadata": {},
   "outputs": [
    {
     "name": "stdout",
     "output_type": "stream",
     "text": [
      "Row: 34, Column:'age'\n",
      "Row: 137, Column:'sword.time'\n",
      "Row: 635, Column:'favorite.pirate'\n",
      "Row: 1000, Column:'headband'\n"
     ]
    }
   ],
   "source": [
    "df = DF\n",
    "\n",
    "# Create a boolean mask to identify missing values\n",
    "missing_mask = df.isna()  # or df.isnull()\n",
    "\n",
    "# Iterate through the DataFrame to find missing value positions\n",
    "missing_positions = []\n",
    "for row_idx, row in missing_mask.iterrows():\n",
    "    for col_name, is_missing in row.iteritems():\n",
    "        if is_missing:\n",
    "            missing_positions.append((row_idx, col_name))\n",
    "\n",
    "# Print the missing value positions\n",
    "for row, col in missing_positions:\n",
    "    print(f\"Row: {row+1}, Column:'{col}'\")"
   ]
  }
 ],
 "metadata": {
  "colab": {
   "provenance": []
  },
  "kernelspec": {
   "display_name": "Python 3 (ipykernel)",
   "language": "python",
   "name": "python3"
  },
  "language_info": {
   "codemirror_mode": {
    "name": "ipython",
    "version": 3
   },
   "file_extension": ".py",
   "mimetype": "text/x-python",
   "name": "python",
   "nbconvert_exporter": "python",
   "pygments_lexer": "ipython3",
   "version": "3.9.13"
  }
 },
 "nbformat": 4,
 "nbformat_minor": 1
}
