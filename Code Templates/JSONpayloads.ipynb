{
 "cells": [
  {
   "cell_type": "code",
   "execution_count": 1,
   "metadata": {},
   "outputs": [],
   "source": [
    "import requests\n",
    "import pandas as pd\n",
    "import seaborn as sns\n",
    "import csv"
   ]
  },
  {
   "cell_type": "code",
   "execution_count": 2,
   "metadata": {},
   "outputs": [],
   "source": [
    "countries = ['AD', 'AE', 'AF', 'AG', 'AI', 'AL', 'AM', 'AN', 'AO', 'AQ', 'AR', 'AS', 'AT', 'AU', 'AW', 'AZ', 'BA', 'BB', 'BD', 'BE', 'BF', 'BG', 'BH', 'BI', 'BJ', 'BM', 'BN', 'BO', 'BR', 'BS', 'BT', 'BU', 'BV', 'BW', 'BY', 'BZ', 'CA', 'CC', 'CD', 'CF', 'CG', 'CH', 'CI', 'CK', 'CL', 'CM', 'CN', 'CO', 'CR', 'CS', 'CU', 'CV', 'CX', 'CY', 'CZ', 'DE', 'DJ', 'DK', 'DM', 'DO', 'DZ', 'EC', 'EE', 'EG', 'EH', 'ER', 'ES', 'ET', 'FI', 'FJ', 'FK', 'FM', 'FO', 'FR', 'GA', 'GB', 'GD', 'GE', 'GF', 'GH', 'GI', 'GL', 'GM', 'GN', 'GP', 'GQ', 'GR', 'GS', 'GT', 'GU', 'GW', 'GY', 'HK', 'HM', 'HN', 'HR', 'HT', 'HU', 'ID', 'IE', 'IL', 'IN', 'IO', 'IQ', 'IR', 'IS', 'IT', 'JM', 'JO', 'JP', 'KE', 'KG', 'KH', 'KI', 'KM', 'KN', 'KP', 'KR', 'KW', 'KY', 'KZ', 'LA', 'LB', 'LC', 'LI', 'LK', 'LR', 'LS', 'LT', 'LU', 'LV', 'LY', 'MA', 'MC', 'MD', 'ME', 'MG', 'MH', 'MK', 'ML', 'MM', 'MN', 'MO', 'MP', 'MQ', 'MR', 'MS', 'MT', 'MU', 'MV', 'MW', 'MX', 'MY', 'MZ', 'NA', 'NC', 'NE', 'NF', 'NG', 'NI', 'NL', 'NO', 'NP', 'NR', \n",
    "'NU', 'NZ', 'OM', 'PA', 'PE', 'PF', 'PG', 'PH', 'PK', 'PL', 'PM', 'PN', 'PR', 'PS', 'PT', 'PW', 'PY', 'QA', 'RE', 'RO', 'RS', 'RU', 'RW', 'SA', 'SB', 'SC', 'SD', 'SE', 'SG', 'SH', 'SI', 'SJ', 'SK', 'SL', 'SM', 'SN', 'SO', 'SR', 'SS', 'ST', 'SU', 'SV', 'SY', 'SZ', 'TC', 'TD', 'TF', 'TG', 'TH', 'TJ', 'TK', 'TL', 'TM', 'TN', 'TO', 'TP', 'TR', 'TT', 'TV', 'TW', 'TZ', 'UA', 'UG', 'UM', 'US', 'UY', 'UZ', 'VA', 'VC', 'VE', 'VG', 'VI', 'VN', 'VU', 'WF', 'WS', 'XC', 'XG', 'XI', 'XK', 'YE', 'YT', 'YU', 'ZA', 'ZM', 'ZR', 'ZW']\n",
    "country_name = ['Andorra', 'United Arab Emirates', 'Afghanistan', 'Antigua and Barbuda', 'Anguilla', 'Albania', 'Armenia', 'Netherlands Antilles', 'Angola', 'Antarctica', 'Argentina', 'American Samoa', 'Austria', 'Australia', 'Aruba', 'Azerbaijan', 'Bosnia and Herzegovina', 'Barbados', 'Bangladesh', 'Belgium', 'Burkina Faso', 'Bulgaria', 'Bahrain', 'Burundi', 'Benin', 'Bermuda', 'Brunei Darussalam', 'Bolivia', 'Brazil', 'Bahamas', 'Bhutan', 'Burma', 'Bouvet Island', 'Botswana', 'Belarus', 'Belize', 'Canada', 'Cocos  Islands', 'Congo', 'Central African Republic', 'Congo', 'Switzerland', \"Cote D'Ivoire\", 'Cook Islands', 'Chile', 'Cameroon', 'China', 'Colombia', 'Costa Rica', 'Serbia and Montenegro', 'Cuba', 'Cape Verde', 'Christmas Island', 'Cyprus', 'Czech Republic', 'Germany', 'Djibouti', 'Denmark', 'Dominica', 'Dominican Republic', 'Algeria', 'Ecuador', 'Estonia', 'Egypt', 'Western Sahara', 'Eritrea', 'Spain', 'Ethiopia', 'Finland', 'Fiji', 'Falkland Islands', 'Micronesia', 'Faeroe Islands', 'France', 'Gabon', 'United Kingdom', 'Grenada', 'Georgia', 'French Guiana', 'Ghana', 'Gibraltar', 'Greenland', 'Gambia', 'Guinea', 'Guadaloupe', 'Equatorial Guinea', 'Greece', 'South Georgia and the South Sandwich Islands', 'Guatemala', 'Guam', 'Guinea-Bissau', 'Guyana', 'Hong Kong', 'Heard and McDonald Islands', 'Honduras', 'Croatia', 'Haiti', 'Hungary', 'Indonesia', 'Ireland', 'Israel', 'India', 'British Indian Ocean Territory', 'Iraq', 'Iran', 'Iceland', 'Italy', 'Jamaica', 'Jordan', 'Japan', 'Kenya', 'Kyrgyz Republic', 'Cambodia', 'Kiribati', 'Comoros', 'St. Kitts and Nevis', 'North Korea', 'South Korea', 'Kuwait', 'Cayman Islands', 'Kazakhstan', \"Lao People's Democratic Republic\", 'Lebanon', 'St. Lucia', 'Liechtenstein', 'Sri Lanka', 'Liberia', 'Lesotho', 'Lithuania', 'Luxembourg', 'Latvia', 'Libyan Arab Jamahiriya', 'Morocco', 'Monaco', 'Moldova', 'Montenegro', 'Madagascar', 'Marshall Islands', 'Macedonia', 'Mali', 'Myanmar', 'Mongolia', 'Macao', 'Northern Mariana Islands',\n",
    "                 'Martinique', 'Mauritania', 'Montserrat', 'Malta', 'Mauritius', 'Maldives', 'Malawi', 'Mexico', 'Malaysia', 'Mozambique', 'Namibia', 'New Caledonia', 'Niger', 'Norfolk Island', 'Nigeria', 'Nicaragua', 'Netherlands', 'Norway', 'Nepal', 'Nauru', 'Niue', 'New Zealand', 'Oman', 'Panama', 'Peru', 'French Polynesia', 'Papua New Guinea', 'Philippines', 'Pakistan', 'Poland', 'St. Pierre and Miquelon', 'Pitcairn Island', 'Puerto Rico', 'Palestinian Territory', 'Portugal', 'Palau', 'Paraguay', 'Qatar', 'Reunion', 'Romania', 'Serbia', 'Russia', 'Rwanda', 'Saudi Arabia', 'Solomon Islands', 'Seychelles', 'Sudan', 'Sweden', 'Singapore', 'St. Helena', 'Slovenia', 'Svalbard & Jan Mayen Islands', 'Slovakia', 'Sierra Leone', 'San Marino', 'Senegal', 'Somalia', 'Suriname', 'South Sudan', 'Sao Tome and Principe', 'Soviet Union', 'El Salvador', 'Syrian Arab Republic', 'Swaziland', 'Turks and Caicos Islands', 'Chad', 'French Southern Territories', 'Togo', 'Thailand', 'Tajikistan', 'Tokelau', 'Timor-Leste', 'Turkmenistan', 'Tunisia', 'Tonga', 'East Timor', 'Turkey', 'Trinidad and Tobago', 'Tuvalu', 'Taiwan', 'Tanzania', 'Ukraine', 'Uganda', 'United States Minor Outlying Islands', 'United States of America', 'Uruguay', 'Uzbekistan', 'Holy See', 'St. Vincent and the Grenadines', 'Venezuela', 'British Virgin Islands', 'US Virgin Islands', 'Vietnam', 'Vanuatu', 'Wallis and Futuna Islands', 'Samoa', 'Czechoslovakia', 'East Germany', 'Northern Ireland', 'Kosovo', 'Yemen', 'Mayotte', 'Yugoslavia', 'South Africa', 'Zambia', 'Zaire', 'Zimbabwe']"
   ]
  },
  {
   "cell_type": "code",
   "execution_count": 3,
   "metadata": {},
   "outputs": [
    {
     "name": "stdout",
     "output_type": "stream",
     "text": [
      "Torture is over\n"
     ]
    }
   ],
   "source": [
    "api_key = '20a7600ce36a43d079a7bae287195020'\n",
    "\n",
    "base_url = 'https://api.themoviedb.org/3'\n",
    "\n",
    "discover_endpoint = '/discover/movie'\n",
    "movie_details_endpoint = '/movie/'\n",
    "\n",
    "params = {\n",
    "    'api_key': api_key,\n",
    "    'sort_by': 'vote_average.desc',\n",
    "    'vote_count.gte': 100,\n",
    "}\n",
    "\n",
    "# Define a function to fetch genres for a given movie ID\n",
    "def fetch_movie_genres(movie_id):\n",
    "    response = requests.get(base_url + movie_details_endpoint + str(movie_id), params=params)\n",
    "    if response.status_code == 200:\n",
    "        data = response.json()\n",
    "        if 'genres' in data:\n",
    "            return [genre['name'] for genre in data['genres']]\n",
    "    return []\n",
    "\n",
    "countries = ['AD', 'AE', 'AF', 'AG', 'AI', 'AL', 'AM', 'AN', 'AO', 'AQ', 'AR', 'AS', 'AT', 'AU', 'AW', 'AZ', 'BA', 'BB', 'BD', 'BE', 'BF', 'BG', 'BH', 'BI', 'BJ', 'BM', 'BN', 'BO', 'BR', 'BS', 'BT', 'BU', 'BV', 'BW', 'BY', 'BZ', 'CA', 'CC', 'CD', 'CF', 'CG', 'CH', 'CI', 'CK', 'CL', 'CM', 'CN', 'CO', 'CR', 'CS', 'CU', 'CV', 'CX', 'CY', 'CZ', 'DE', 'DJ', 'DK', 'DM', 'DO', 'DZ', 'EC', 'EE', 'EG', 'EH', 'ER', 'ES', 'ET', 'FI', 'FJ', 'FK', 'FM', 'FO', 'FR', 'GA', 'GB', 'GD', 'GE', 'GF', 'GH', 'GI', 'GL', 'GM', 'GN', 'GP', 'GQ', 'GR', 'GS', 'GT', 'GU', 'GW', 'GY', 'HK', 'HM', 'HN', 'HR', 'HT', 'HU', 'ID', 'IE', 'IL', 'IN', 'IO', 'IQ', 'IR', 'IS', 'IT', 'JM', 'JO', 'JP', 'KE', 'KG', 'KH', 'KI', 'KM', 'KN', 'KP', 'KR', 'KW', 'KY', 'KZ', 'LA', 'LB', 'LC', 'LI', 'LK', 'LR', 'LS', 'LT', 'LU', 'LV', 'LY', 'MA', 'MC', 'MD', 'ME', 'MG', 'MH', 'MK', 'ML', 'MM', 'MN', 'MO', 'MP', 'MQ', 'MR', 'MS', 'MT', 'MU', 'MV', 'MW', 'MX', 'MY', 'MZ', 'NA', 'NC', 'NE', 'NF', 'NG', 'NI', 'NL', 'NO', 'NP', 'NR', \n",
    "'NU', 'NZ', 'OM', 'PA', 'PE', 'PF', 'PG', 'PH', 'PK', 'PL', 'PM', 'PN', 'PR', 'PS', 'PT', 'PW', 'PY', 'QA', 'RE', 'RO', 'RS', 'RU', 'RW', 'SA', 'SB', 'SC', 'SD', 'SE', 'SG', 'SH', 'SI', 'SJ', 'SK', 'SL', 'SM', 'SN', 'SO', 'SR', 'SS', 'ST', 'SU', 'SV', 'SY', 'SZ', 'TC', 'TD', 'TF', 'TG', 'TH', 'TJ', 'TK', 'TL', 'TM', 'TN', 'TO', 'TP', 'TR', 'TT', 'TV', 'TW', 'TZ', 'UA', 'UG', 'UM', 'US', 'UY', 'UZ', 'VA', 'VC', 'VE', 'VG', 'VI', 'VN', 'VU', 'WF', 'WS', 'XC', 'XG', 'XI', 'XK', 'YE', 'YT', 'YU', 'ZA', 'ZM', 'ZR', 'ZW']\n",
    "country_name = ['Andorra', 'United Arab Emirates', 'Afghanistan', 'Antigua and Barbuda', 'Anguilla', 'Albania', 'Armenia', 'Netherlands Antilles', 'Angola', 'Antarctica', 'Argentina', 'American Samoa', 'Austria', 'Australia', 'Aruba', 'Azerbaijan', 'Bosnia and Herzegovina', 'Barbados', 'Bangladesh', 'Belgium', 'Burkina Faso', 'Bulgaria', 'Bahrain', 'Burundi', 'Benin', 'Bermuda', 'Brunei Darussalam', 'Bolivia', 'Brazil', 'Bahamas', 'Bhutan', 'Burma', 'Bouvet Island', 'Botswana', 'Belarus', 'Belize', 'Canada', 'Cocos  Islands', 'Congo', 'Central African Republic', 'Congo', 'Switzerland', \"Cote D'Ivoire\", 'Cook Islands', 'Chile', 'Cameroon', 'China', 'Colombia', 'Costa Rica', 'Serbia and Montenegro', 'Cuba', 'Cape Verde', 'Christmas Island', 'Cyprus', 'Czech Republic', 'Germany', 'Djibouti', 'Denmark', 'Dominica', 'Dominican Republic', 'Algeria', 'Ecuador', 'Estonia', 'Egypt', 'Western Sahara', 'Eritrea', 'Spain', 'Ethiopia', 'Finland', 'Fiji', 'Falkland Islands', 'Micronesia', 'Faeroe Islands', 'France', 'Gabon', 'United Kingdom', 'Grenada', 'Georgia', 'French Guiana', 'Ghana', 'Gibraltar', 'Greenland', 'Gambia', 'Guinea', 'Guadaloupe', 'Equatorial Guinea', 'Greece', 'South Georgia and the South Sandwich Islands', 'Guatemala', 'Guam', 'Guinea-Bissau', 'Guyana', 'Hong Kong', 'Heard and McDonald Islands', 'Honduras', 'Croatia', 'Haiti', 'Hungary', 'Indonesia', 'Ireland', 'Israel', 'India', 'British Indian Ocean Territory', 'Iraq', 'Iran', 'Iceland', 'Italy', 'Jamaica', 'Jordan', 'Japan', 'Kenya', 'Kyrgyz Republic', 'Cambodia', 'Kiribati', 'Comoros', 'St. Kitts and Nevis', 'North Korea', 'South Korea', 'Kuwait', 'Cayman Islands', 'Kazakhstan', \"Lao People's Democratic Republic\", 'Lebanon', 'St. Lucia', 'Liechtenstein', 'Sri Lanka', 'Liberia', 'Lesotho', 'Lithuania', 'Luxembourg', 'Latvia', 'Libyan Arab Jamahiriya', 'Morocco', 'Monaco', 'Moldova', 'Montenegro', 'Madagascar', 'Marshall Islands', 'Macedonia', 'Mali', 'Myanmar', 'Mongolia', 'Macao', 'Northern Mariana Islands',\n",
    "                 'Martinique', 'Mauritania', 'Montserrat', 'Malta', 'Mauritius', 'Maldives', 'Malawi', 'Mexico', 'Malaysia', 'Mozambique', 'Namibia', 'New Caledonia', 'Niger', 'Norfolk Island', 'Nigeria', 'Nicaragua', 'Netherlands', 'Norway', 'Nepal', 'Nauru', 'Niue', 'New Zealand', 'Oman', 'Panama', 'Peru', 'French Polynesia', 'Papua New Guinea', 'Philippines', 'Pakistan', 'Poland', 'St. Pierre and Miquelon', 'Pitcairn Island', 'Puerto Rico', 'Palestinian Territory', 'Portugal', 'Palau', 'Paraguay', 'Qatar', 'Reunion', 'Romania', 'Serbia', 'Russia', 'Rwanda', 'Saudi Arabia', 'Solomon Islands', 'Seychelles', 'Sudan', 'Sweden', 'Singapore', 'St. Helena', 'Slovenia', 'Svalbard & Jan Mayen Islands', 'Slovakia', 'Sierra Leone', 'San Marino', 'Senegal', 'Somalia', 'Suriname', 'South Sudan', 'Sao Tome and Principe', 'Soviet Union', 'El Salvador', 'Syrian Arab Republic', 'Swaziland', 'Turks and Caicos Islands', 'Chad', 'French Southern Territories', 'Togo', 'Thailand', 'Tajikistan', 'Tokelau', 'Timor-Leste', 'Turkmenistan', 'Tunisia', 'Tonga', 'East Timor', 'Turkey', 'Trinidad and Tobago', 'Tuvalu', 'Taiwan', 'Tanzania', 'Ukraine', 'Uganda', 'United States Minor Outlying Islands', 'United States of America', 'Uruguay', 'Uzbekistan', 'Holy See', 'St. Vincent and the Grenadines', 'Venezuela', 'British Virgin Islands', 'US Virgin Islands', 'Vietnam', 'Vanuatu', 'Wallis and Futuna Islands', 'Samoa', 'Czechoslovakia', 'East Germany', 'Northern Ireland', 'Kosovo', 'Yemen', 'Mayotte', 'Yugoslavia', 'South Africa', 'Zambia', 'Zaire', 'Zimbabwe']\n",
    "\n",
    "with open('movies.csv', mode='w', newline='') as csv_file:\n",
    "    fieldnames = ['Country', 'Movie', 'Rating', 'Genre']\n",
    "    writer = csv.DictWriter(csv_file, fieldnames=fieldnames)\n",
    "    writer.writeheader()\n",
    "\n",
    "    for country in countries:\n",
    "        params['with_origin_country'] = country\n",
    "        response = requests.get(base_url + discover_endpoint, params=params)\n",
    "\n",
    "        if response.status_code == 200:\n",
    "            data = response.json()\n",
    "\n",
    "            if 'results' in data and len(data['results']) > 0:\n",
    "                highest_rated_movie = data['results'][0]\n",
    "                movie_id = highest_rated_movie['id']\n",
    "                genres = fetch_movie_genres(movie_id)\n",
    "\n",
    "                writer.writerow({\n",
    "                    'Country': country_name[countries.index(country)],\n",
    "                    'Movie': highest_rated_movie['title'],\n",
    "                    'Rating': highest_rated_movie['vote_average'],\n",
    "                    'Genre': ', '.join(genres) if genres else 'N/A'\n",
    "                })\n",
    "\n",
    "print(\"Torture is over\")\n"
   ]
  },
  {
   "cell_type": "code",
   "execution_count": 4,
   "metadata": {},
   "outputs": [],
   "source": [
    "df = pd.read_csv(\"movies.csv\")"
   ]
  },
  {
   "cell_type": "code",
   "execution_count": 5,
   "metadata": {},
   "outputs": [
    {
     "name": "stdout",
     "output_type": "stream",
     "text": [
      "Documentary\n"
     ]
    }
   ],
   "source": [
    "print(df[\"Genre\"].mode()[0])"
   ]
  },
  {
   "cell_type": "code",
   "execution_count": 11,
   "metadata": {},
   "outputs": [
    {
     "name": "stdout",
     "output_type": "stream",
     "text": [
      "United Arab Emirates: Samsara\n",
      "United Arab Emirates: Samsara\n",
      "United Arab Emirates: Samsara\n",
      "United Arab Emirates: Samsara\n",
      "United Arab Emirates: Samsara\n",
      "United Arab Emirates: Samsara\n",
      "United Arab Emirates: Samsara\n",
      "United Arab Emirates: Samsara\n",
      "United Arab Emirates: Samsara\n",
      "United Arab Emirates: Samsara\n",
      "United Arab Emirates: Samsara\n",
      "United Arab Emirates: Samsara\n",
      "United Arab Emirates: Samsara\n",
      "United Arab Emirates: Samsara\n",
      "United Arab Emirates: Samsara\n",
      "United Arab Emirates: Samsara\n",
      "United Arab Emirates: Samsara\n",
      "United Arab Emirates: Samsara\n",
      "United Arab Emirates: Samsara\n",
      "United Arab Emirates: Samsara\n",
      "United Arab Emirates: Samsara\n",
      "United Arab Emirates: Samsara\n",
      "United Arab Emirates: Samsara\n",
      "United Arab Emirates: Samsara\n",
      "United Arab Emirates: Samsara\n",
      "United Arab Emirates: Samsara\n",
      "United Arab Emirates: Samsara\n",
      "United Arab Emirates: Samsara\n",
      "United Arab Emirates: Samsara\n",
      "United Arab Emirates: Samsara\n",
      "United Arab Emirates: Samsara\n",
      "United Arab Emirates: Samsara\n",
      "United Arab Emirates: Samsara\n",
      "United Arab Emirates: Samsara\n",
      "United Arab Emirates: Samsara\n",
      "United Arab Emirates: Samsara\n",
      "United Arab Emirates: Samsara\n",
      "United Arab Emirates: Samsara\n",
      "United Arab Emirates: Samsara\n",
      "United Arab Emirates: Samsara\n",
      "United Arab Emirates: Samsara\n",
      "United Arab Emirates: Samsara\n",
      "United Arab Emirates: Samsara\n",
      "United Arab Emirates: Samsara\n",
      "United Arab Emirates: Samsara\n",
      "United Arab Emirates: Samsara\n",
      "United Arab Emirates: Samsara\n",
      "United Arab Emirates: Samsara\n",
      "United Arab Emirates: Samsara\n",
      "United Arab Emirates: Samsara\n",
      "United Arab Emirates: Samsara\n",
      "United Arab Emirates: Samsara\n",
      "United Arab Emirates: Samsara\n",
      "United Arab Emirates: Samsara\n",
      "United Arab Emirates: Samsara\n",
      "United Arab Emirates: Samsara\n",
      "United Arab Emirates: Samsara\n",
      "United Arab Emirates: Samsara\n",
      "United Arab Emirates: Samsara\n",
      "United Arab Emirates: Samsara\n",
      "United Arab Emirates: Samsara\n",
      "United Arab Emirates: Samsara\n",
      "United Arab Emirates: Samsara\n",
      "United Arab Emirates: Samsara\n",
      "United Arab Emirates: Samsara\n",
      "United Arab Emirates: Samsara\n",
      "United Arab Emirates: Samsara\n",
      "United Arab Emirates: Samsara\n",
      "United Arab Emirates: Samsara\n",
      "United Arab Emirates: Samsara\n",
      "United Arab Emirates: Samsara\n",
      "United Arab Emirates: Samsara\n",
      "United Arab Emirates: Samsara\n",
      "United Arab Emirates: Samsara\n",
      "United Arab Emirates: Samsara\n",
      "United Arab Emirates: Samsara\n",
      "United Arab Emirates: Samsara\n",
      "United Arab Emirates: Samsara\n",
      "United Arab Emirates: Samsara\n",
      "United Arab Emirates: Samsara\n",
      "United Arab Emirates: Samsara\n",
      "United Arab Emirates: Samsara\n",
      "United Arab Emirates: Samsara\n",
      "United Arab Emirates: Samsara\n",
      "United Arab Emirates: Samsara\n",
      "United Arab Emirates: Samsara\n",
      "United Arab Emirates: Samsara\n",
      "United Arab Emirates: Samsara\n",
      "United Arab Emirates: Samsara\n",
      "United Arab Emirates: Samsara\n",
      "United Arab Emirates: Samsara\n",
      "United Arab Emirates: Samsara\n",
      "United Arab Emirates: Samsara\n",
      "United Arab Emirates: Samsara\n",
      "United Arab Emirates: Samsara\n",
      "United Arab Emirates: Samsara\n",
      "United Arab Emirates: Samsara\n",
      "United Arab Emirates: Samsara\n",
      "United Arab Emirates: Samsara\n",
      "United Arab Emirates: Samsara\n",
      "United Arab Emirates: Samsara\n",
      "United Arab Emirates: Samsara\n",
      "United Arab Emirates: Samsara\n",
      "United Arab Emirates: Samsara\n",
      "United Arab Emirates: Samsara\n",
      "United Arab Emirates: Samsara\n",
      "United Arab Emirates: Samsara\n",
      "United Arab Emirates: Samsara\n",
      "United Arab Emirates: Samsara\n",
      "United Arab Emirates: Samsara\n",
      "United Arab Emirates: Samsara\n",
      "United Arab Emirates: Samsara\n",
      "United Arab Emirates: Samsara\n",
      "United Arab Emirates: Samsara\n"
     ]
    }
   ],
   "source": [
    "for i in range(len(df)):\n",
    "    print(f'{df[\"Country\"][0]}: {df[\"Movie\"][0]}')"
   ]
  },
  {
   "cell_type": "code",
   "execution_count": null,
   "metadata": {},
   "outputs": [],
   "source": []
  }
 ],
 "metadata": {
  "kernelspec": {
   "display_name": "base",
   "language": "python",
   "name": "python3"
  },
  "language_info": {
   "codemirror_mode": {
    "name": "ipython",
    "version": 3
   },
   "file_extension": ".py",
   "mimetype": "text/x-python",
   "name": "python",
   "nbconvert_exporter": "python",
   "pygments_lexer": "ipython3",
   "version": "3.9.13"
  },
  "orig_nbformat": 4
 },
 "nbformat": 4,
 "nbformat_minor": 2
}
