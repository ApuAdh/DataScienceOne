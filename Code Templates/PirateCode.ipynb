{
 "cells": [
  {
   "cell_type": "code",
   "execution_count": 33,
   "id": "77f5a4b6",
   "metadata": {},
   "outputs": [],
   "source": [
    "class Pirate:\n",
    "    def __init__(self, name, sex, age_at_death, height, skull_and_crossbones):\n",
    "        self.name = name\n",
    "        self.sex = sex\n",
    "        self.age_at_death = age_at_death\n",
    "        self.height = height\n",
    "        self.skull_and_crossbones = skull_and_crossbones\n",
    "\n",
    "Blackbeard = Pirate(\"Blackbeard\",\"M\",40, 6.4, False)\n",
    "Anne_Bonny = Pirate(\"Anne Bonny\", \"F\", 24, 5.6, True)\n",
    "Calico_Jack = Pirate(\"Calico Jack\", \"M\", 37, 5.6, True)\n",
    "Cheung_Po_Tsai = Pirate(\"Cheung Po Tsai\", \"M\", 39, 5.3 ,False)\n",
    "Grace_OMalley = Pirate(\"Grace O'Malley\", \"F\", 73,5.0, False)\n",
    "Mary_Read = Pirate(\"Mary Read\",\"F\", 36, 5.1, True)\n",
    "Sayyida_al_Hurra = Pirate(\"Sayyida al Hurra\", \"F\", 75, None, False)\n",
    "Ching_Shih = Pirate(\"Ching Shih\", \"F\", 69, 53.3, False,)\n",
    "Sir_Francis_Drake = Pirate(\"Sir Francis Drake\", \"M\", 56, 5.5, False)\n",
    "Jean_Lafitte = Pirate(\"Jean Lafitte\", \"M\", 46, 6.2, False)\n",
    "\n",
    "Pirates = [Blackbeard, Anne_Bonny, Calico_Jack, Cheung_Po_Tsai, Grace_OMalley,\n",
    "           Mary_Read, Sayyida_al_Hurra, Ching_Shih, Sir_Francis_Drake, Jean_Lafitte]"
   ]
  },
  {
   "cell_type": "code",
   "execution_count": 47,
   "id": "ea9fccc8",
   "metadata": {},
   "outputs": [
    {
     "name": "stdout",
     "output_type": "stream",
     "text": [
      "Blackbeard M 40 6.4 False\n"
     ]
    }
   ],
   "source": [
    "print(Pirates[0].name, Pirates[0].sex, Pirates[0].age_at_death, Pirates[0].height, Pirates[0].skull_and_crossbones)"
   ]
  },
  {
   "cell_type": "code",
   "execution_count": 49,
   "id": "ed156dcb",
   "metadata": {},
   "outputs": [
    {
     "name": "stdout",
     "output_type": "stream",
     "text": [
      "False\n",
      "False\n",
      "False\n",
      "False\n",
      "True\n",
      "False\n",
      "False\n",
      "True\n",
      "True\n",
      "False\n"
     ]
    }
   ],
   "source": [
    "for i in range(len(Pirates))[::-1]:\n",
    "    print(Pirates[i].skull_and_crossbones)"
   ]
  },
  {
   "cell_type": "code",
   "execution_count": 52,
   "id": "587724a4",
   "metadata": {},
   "outputs": [
    {
     "name": "stdout",
     "output_type": "stream",
     "text": [
      "Blackbeard 40 False\n",
      "Anne Bonny 24 True\n",
      "Calico Jack 37 True\n",
      "Cheung Po Tsai 39 False\n",
      "Grace O'Malley 73 False\n",
      "Mary Read 36 True\n",
      "Sayyida al Hurra 75 False\n",
      "Ching Shih 69 False\n",
      "Sir Francis Drake 56 False\n",
      "Jean Lafitte 46 False\n"
     ]
    }
   ],
   "source": [
    "for i in Pirates:\n",
    "    print(i.name, i.age_at_death, i.skull_and_crossbones)"
   ]
  }
 ],
 "metadata": {
  "kernelspec": {
   "display_name": "Python 3 (ipykernel)",
   "language": "python",
   "name": "python3"
  },
  "language_info": {
   "codemirror_mode": {
    "name": "ipython",
    "version": 3
   },
   "file_extension": ".py",
   "mimetype": "text/x-python",
   "name": "python",
   "nbconvert_exporter": "python",
   "pygments_lexer": "ipython3",
   "version": "3.9.13"
  }
 },
 "nbformat": 4,
 "nbformat_minor": 5
}
