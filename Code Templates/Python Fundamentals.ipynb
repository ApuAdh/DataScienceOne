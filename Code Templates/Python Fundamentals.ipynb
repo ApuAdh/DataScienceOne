{
  "cells": [
    {
      "cell_type": "code",
      "execution_count": 17,
      "metadata": {
        "id": "bIBt_FTuvB7O"
      },
      "outputs": [],
      "source": [
        "pirates = {\n",
        "    \"Name\":[\"Blackbeard\", \"Anne Bonny\", \"Calico Jack\", \"Cheung Po Tsai\", \"Grace O'Malley\", \"Mary Read\", \"Sayyida al Hurra\", \"Ching Shih\", \"Sir Francis Drake\", \"Jean Lafittte\"],\n",
        "    \"Sex\":[\"M\", \"F\", \"M\", \"M\", \"F\", \"F\", \"F\", \"F\", \"M\", \"M\"],\n",
        "    \"Age at Death\":[40, 24, 37, 39, 73, 36, 75, 69, 56, 46],\n",
        "    \"Height\":[6.4, 5.6, 5.6, 5.3, 5.0, 5.1, 0, 5.3, 5.5, 6.2],\n",
        "    \"Skull and Crossbones\":[False, True, True, False, False, True, False, False, False, False]\n",
        "}"
      ]
    },
    {
      "cell_type": "code",
      "execution_count": 15,
      "metadata": {},
      "outputs": [
        {
          "name": "stdout",
          "output_type": "stream",
          "text": [
            "Blackbeard M 40 6.4 False\n"
          ]
        }
      ],
      "source": [
        "#Print the first row\n",
        "print(pirates[\"Name\"][0], pirates[\"Sex\"][0], pirates[\"Age at Death\"][0], pirates[\"Height\"][0], pirates[\"Skull and Crossbones\"][0])"
      ]
    },
    {
      "cell_type": "code",
      "execution_count": 16,
      "metadata": {},
      "outputs": [
        {
          "name": "stdout",
          "output_type": "stream",
          "text": [
            "False\n",
            "False\n",
            "False\n",
            "False\n",
            "True\n",
            "False\n",
            "False\n",
            "True\n",
            "True\n",
            "False\n"
          ]
        }
      ],
      "source": [
        "#Print the last column in reverse\n",
        "for i in range(len(pirates[\"Skull and Crossbones\"]))[::-1]:\n",
        "    print(pirates[\"Skull and Crossbones\"][i])"
      ]
    },
    {
      "cell_type": "code",
      "execution_count": 18,
      "metadata": {},
      "outputs": [
        {
          "name": "stdout",
          "output_type": "stream",
          "text": [
            "Blackbeard 40 False\n",
            "Anne Bonny 24 True\n",
            "Calico Jack 37 True\n",
            "Cheung Po Tsai 39 False\n",
            "Grace O'Malley 73 False\n",
            "Mary Read 36 True\n",
            "Sayyida al Hurra 75 False\n",
            "Ching Shih 69 False\n",
            "Sir Francis Drake 56 False\n",
            "Jean Lafittte 46 False\n"
          ]
        }
      ],
      "source": [
        "#print every row but only print every other column\n",
        "for i in range(len(pirates[\"Name\"])):\n",
        "    print(pirates[\"Name\"][i], pirates[\"Age at Death\"][i], pirates[\"Skull and Crossbones\"][i])"
      ]
    },
    {
      "cell_type": "code",
      "execution_count": 19,
      "metadata": {},
      "outputs": [
        {
          "name": "stdout",
          "output_type": "stream",
          "text": [
            "3\n"
          ]
        }
      ],
      "source": [
        "#How many flags feature a skull and crossbones\n",
        "Flags_With_Skull_and_Crossbones = 0\n",
        "for i in pirates[\"Skull and Crossbones\"]:\n",
        "    if i == True:\n",
        "        Flags_With_Skull_and_Crossbones += 1\n",
        "print(Flags_With_Skull_and_Crossbones)"
      ]
    },
    {
      "cell_type": "code",
      "execution_count": 20,
      "metadata": {},
      "outputs": [
        {
          "name": "stdout",
          "output_type": "stream",
          "text": [
            "Female pirates live longer on average\n"
          ]
        }
      ],
      "source": [
        "#Do Male or Female Pirates live longer on average\n",
        "Male_Total = 0\n",
        "Female_Total = 0\n",
        "Male_Count = 0\n",
        "Female_Count = 0\n",
        "\n",
        "for i in range(0, len(pirates[\"Name\"])):\n",
        "    if pirates[\"Sex\"][i] == \"M\":\n",
        "        Male_Count += 1\n",
        "        Male_Total += pirates[\"Age at Death\"][i]\n",
        "    elif pirates[\"Sex\"][i] == \"F\":\n",
        "        Female_Count += 1\n",
        "        Female_Total += pirates[\"Age at Death\"][i]\n",
        "\n",
        "Male_Average = Male_Total/Male_Count\n",
        "Female_Average = Female_Total/Male_Count\n",
        "\n",
        "if Male_Average > Female_Average:\n",
        "    print(\"Male pirates live longer on average\")\n",
        "else:\n",
        "    print(\"Female pirates live longer on average\")"
      ]
    },
    {
      "cell_type": "code",
      "execution_count": 21,
      "metadata": {},
      "outputs": [
        {
          "name": "stdout",
          "output_type": "stream",
          "text": [
            "20% of pirates are taller than 6 feet\n"
          ]
        }
      ],
      "source": [
        "#What percentage of pirates are 6 feet or taller\n",
        "Six_Feet_Gang = 0\n",
        "Regular_Gang = 0\n",
        "\n",
        "for i in pirates[\"Height\"]:\n",
        "    if i >= 6.0:\n",
        "        Six_Feet_Gang += 1\n",
        "        Regular_Gang += 1\n",
        "    else:\n",
        "        Regular_Gang += 1\n",
        "\n",
        "print(f'{int((Six_Feet_Gang/Regular_Gang)*100)}% of pirates are taller than 6 feet')"
      ]
    }
  ],
  "metadata": {
    "colab": {
      "provenance": []
    },
    "kernelspec": {
      "display_name": "Python 3",
      "name": "python3"
    },
    "language_info": {
      "codemirror_mode": {
        "name": "ipython",
        "version": 3
      },
      "file_extension": ".py",
      "mimetype": "text/x-python",
      "name": "python",
      "nbconvert_exporter": "python",
      "pygments_lexer": "ipython3",
      "version": "3.9.13"
    }
  },
  "nbformat": 4,
  "nbformat_minor": 0
}
